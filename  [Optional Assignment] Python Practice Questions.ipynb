{
 "cells": [
  {
   "cell_type": "markdown",
   "metadata": {},
   "source": [
    "# [Optional Assignment] Python Practice Questions:"
   ]
  },
  {
   "cell_type": "markdown",
   "metadata": {},
   "source": [
    "### 1. Write a function that inputs a number and prints the multiplication table of that number"
   ]
  },
  {
   "cell_type": "code",
   "execution_count": 2,
   "metadata": {},
   "outputs": [
    {
     "name": "stdout",
     "output_type": "stream",
     "text": [
      "Enter a number:5\n",
      "5 * 1 = 5\n",
      "5 * 2 = 10\n",
      "5 * 3 = 15\n",
      "5 * 4 = 20\n",
      "5 * 5 = 25\n",
      "5 * 6 = 30\n",
      "5 * 7 = 35\n",
      "5 * 8 = 40\n",
      "5 * 9 = 45\n",
      "5 * 10 = 50\n"
     ]
    }
   ],
   "source": [
    "num = int(input(\"Enter a number:\"))\n",
    "\n",
    "for ind in range(1,11):\n",
    "    print(\"{} * {} = {}\".format(num, ind, (num*ind)))"
   ]
  },
  {
   "cell_type": "markdown",
   "metadata": {},
   "source": [
    "### 2. Write a program to print twin primes less than 1000. If two consecutive odd numbers are both prime then they are known as twin primes "
   ]
  },
  {
   "cell_type": "code",
   "execution_count": 32,
   "metadata": {},
   "outputs": [
    {
     "name": "stdout",
     "output_type": "stream",
     "text": [
      "3 , 5\n",
      "5 , 7\n",
      "11 , 13\n",
      "17 , 19\n",
      "29 , 31\n",
      "41 , 43\n",
      "59 , 61\n",
      "71 , 73\n",
      "101 , 103\n",
      "107 , 109\n",
      "137 , 139\n",
      "149 , 151\n",
      "179 , 181\n",
      "191 , 193\n",
      "197 , 199\n",
      "227 , 229\n",
      "239 , 241\n",
      "269 , 271\n",
      "281 , 283\n",
      "311 , 313\n",
      "347 , 349\n",
      "419 , 421\n",
      "431 , 433\n",
      "461 , 463\n",
      "521 , 523\n",
      "569 , 571\n",
      "599 , 601\n",
      "617 , 619\n",
      "641 , 643\n",
      "659 , 661\n",
      "809 , 811\n",
      "821 , 823\n",
      "827 , 829\n",
      "857 , 859\n",
      "881 , 883\n"
     ]
    }
   ],
   "source": [
    "#step1: find all the prime number less than 1000\n",
    "ele = [i for i in range(2, 1001)]\n",
    "for num in ele:\n",
    "    ind = 2\n",
    "    while num*ind <= 1000:\n",
    "        if num*ind in ele:\n",
    "            ele.remove(num*ind)\n",
    "        ind += 1\n",
    "        \n",
    "#step2: check for the twins and print pair-wise\n",
    "for i in range(len(ele) - 1):\n",
    "    if ele[i+1]-ele[i] == 2:\n",
    "        print(ele[i], \",\", ele[i+1])"
   ]
  },
  {
   "cell_type": "markdown",
   "metadata": {},
   "source": [
    "### 3. Write a program to find out the prime factors of a number. Example: prime factors of 56 - 2, 2, 2, 7"
   ]
  },
  {
   "cell_type": "markdown",
   "metadata": {},
   "source": [
    "Reference: https://www.geeksforgeeks.org/print-all-prime-factors-of-a-given-number/"
   ]
  },
  {
   "cell_type": "code",
   "execution_count": 35,
   "metadata": {},
   "outputs": [],
   "source": [
    "from math import sqrt"
   ]
  },
  {
   "cell_type": "code",
   "execution_count": 44,
   "metadata": {},
   "outputs": [
    {
     "name": "stdout",
     "output_type": "stream",
     "text": [
      "Enter a number:258\n",
      "2\n",
      "3\n",
      "43\n"
     ]
    }
   ],
   "source": [
    "\n",
    "num  = int(input(\"Enter a number:\"))\n",
    "\n",
    "#printing the all the occurance of 2 in the set of prime factor\n",
    "while num % 2 == 0:\n",
    "    print('2')\n",
    "    num /= 2\n",
    "    \n",
    "#at this point the number must be a odd number, so let's start the checking with 3 and a increment step of 2 up to sqrt(n)\n",
    "#why upto sqrt(n)? because from the fact that there should be atleast one factor less then or equal to sqrt(n)\n",
    "for i in range(3, int(sqrt(num))+1, 2):\n",
    "    while num % i == 0:\n",
    "        print(i)\n",
    "        num /= i\n",
    "        \n",
    "#if the number is still > 1, then it must be a prime number\n",
    "if num > 1:\n",
    "    print(int(num))"
   ]
  },
  {
   "cell_type": "markdown",
   "metadata": {},
   "source": [
    "### 4. Write a program to implement these formulae of permutations and combinations. Number of permutations of n objects taken r at a time: p(n, r) = n! / (n-r)!. Number of combinations of n objects taken r at a time is: c(n, r) = n! / (r!*(n-r)!) = p(n,r) / r"
   ]
  },
  {
   "cell_type": "markdown",
   "metadata": {},
   "source": [
    "Constraints: n, r must be positive and n >= r"
   ]
  },
  {
   "cell_type": "code",
   "execution_count": 46,
   "metadata": {},
   "outputs": [],
   "source": [
    "def factorial(num):\n",
    "    if num == 0 or num == 1:\n",
    "        return 1\n",
    "    else:\n",
    "        return num * factorial(num-1)"
   ]
  },
  {
   "cell_type": "code",
   "execution_count": 47,
   "metadata": {},
   "outputs": [],
   "source": [
    "def computePermutation(n, r):\n",
    "    p = int(factorial(n) / factorial(n-r))\n",
    "    print(\"Permutations: \", p)\n",
    "    \n",
    "def computeCombination(n, r):\n",
    "    c = int(factorial(n) / (factorial(r)*factorial(n-r)))\n",
    "    print(\"Combinations: \", c)"
   ]
  },
  {
   "cell_type": "code",
   "execution_count": 50,
   "metadata": {},
   "outputs": [
    {
     "name": "stdout",
     "output_type": "stream",
     "text": [
      "Enter the value of n:6\n",
      "Enter the value of r:2\n",
      "Permutations:  30\n",
      "Combinations:  15\n"
     ]
    }
   ],
   "source": [
    "n = int(input(\"Enter the value of n:\"))\n",
    "r = int(input(\"Enter the value of r:\"))\n",
    "\n",
    "if n<0 or r<0:\n",
    "    print(\"Invalid number entered!\")\n",
    "elif n<r:\n",
    "    print(\"n should not be less then r.\")\n",
    "else:\n",
    "    computePermutation(n, r)\n",
    "    computeCombination(n, r)"
   ]
  },
  {
   "cell_type": "markdown",
   "metadata": {},
   "source": [
    "### 5. Write a function that converts a decimal number to binary number"
   ]
  },
  {
   "cell_type": "code",
   "execution_count": 59,
   "metadata": {},
   "outputs": [
    {
     "name": "stdout",
     "output_type": "stream",
     "text": [
      "Enter the value:14\n",
      "The binary number of 14 is 1110.\n"
     ]
    }
   ],
   "source": [
    "num = int(input(\"Enter the value:\"))\n",
    "binary = []\n",
    "q = num\n",
    "while q != 0:\n",
    "    binary.append(str(q%2))\n",
    "    q = int(q/2)\n",
    "    \n",
    "#we have appended each bit in a reverse manner, so need to reverse the list to get the correct binary number\n",
    "binary.reverse()\n",
    "print(\"The binary number of {} is {}.\".format(num, \"\".join(binary)))"
   ]
  },
  {
   "cell_type": "markdown",
   "metadata": {},
   "source": [
    "### 6. Write a function cubesum() that accepts an integer and returns the sum of the cubes of individual digits of that number. Use this function to make functions PrintArmstrong() and isArmstrong() to print Armstrong numbers and to find whether is an Armstrong number."
   ]
  },
  {
   "cell_type": "code",
   "execution_count": 60,
   "metadata": {},
   "outputs": [],
   "source": [
    "def cubeSum(num):\n",
    "    cube = {0:0, 1:1, 2:8, 3:27, 4:64, 5:125, 6:216, 7:343, 8:512, 9:729}\n",
    "    cubesum = 0\n",
    "\n",
    "    #calculate the cube sum of all the digits\n",
    "    temp = num\n",
    "    while(temp):\n",
    "        digit = temp%10\n",
    "        cubesum += cube[digit]\n",
    "        temp = int(temp/10)\n",
    "        \n",
    "    return cubesum"
   ]
  },
  {
   "cell_type": "code",
   "execution_count": 62,
   "metadata": {},
   "outputs": [],
   "source": [
    "def printAmstrong(num, sumOfCube):\n",
    "    if num == sumOfCube:\n",
    "        print(\"{} is an Amstrong number.\".format(num))\n",
    "    else:\n",
    "        print(\"{} is not an Amstrong number.\".format(num))\n",
    "def isAmstrong(num):\n",
    "    sumOfCube = cubeSum(num)\n",
    "    printAmstrong(num, sumOfCube)"
   ]
  },
  {
   "cell_type": "code",
   "execution_count": 65,
   "metadata": {},
   "outputs": [
    {
     "name": "stdout",
     "output_type": "stream",
     "text": [
      "Enter a number:153\n",
      "153 is an Amstrong number.\n"
     ]
    }
   ],
   "source": [
    "num = int(input(\"Enter a number:\"))\n",
    "isAmstrong(num)"
   ]
  },
  {
   "cell_type": "markdown",
   "metadata": {},
   "source": [
    "### 7. Write a function prodDigits() that inputs a number and returns the product of digits of that number"
   ]
  },
  {
   "cell_type": "code",
   "execution_count": 66,
   "metadata": {},
   "outputs": [
    {
     "name": "stdout",
     "output_type": "stream",
     "text": [
      "Enter a number:126\n",
      "The product of all the digits of 126 is 12\n"
     ]
    }
   ],
   "source": [
    "def prodDigits(num):\n",
    "    product = 1\n",
    "    while(num):\n",
    "        digit = num%10\n",
    "        product *= digit\n",
    "        num = int(num/10)\n",
    "    \n",
    "    return product\n",
    "\n",
    "num = int(input(\"Enter a number:\"))\n",
    "print(\"The product of all the digits of {} is {}\".format(num, prodDigits(num)))"
   ]
  },
  {
   "cell_type": "markdown",
   "metadata": {},
   "source": [
    "### 8. If all digits of a number n are multiplied by each other repeating with the product, the one digit number obtained at last is called the multiplicative digital root of n. The number of times digits need to be multiplied to reach one digit is called the multiplicative persistance of n.                                                                                               "
   ]
  },
  {
   "cell_type": "markdown",
   "metadata": {},
   "source": [
    "### Example: 86 -> 48 -> 32 -> 6 (MDR 6, MPersistence 3), 341 -> 12->2 (MDR 2, MPersistence 2) "
   ]
  },
  {
   "cell_type": "markdown",
   "metadata": {},
   "source": [
    "### Using the function prodDigits() of previous exercise write functions MDR() and MPersistence() that input a number and return its multiplicative digital root and multiplicative persistence respectively"
   ]
  },
  {
   "cell_type": "code",
   "execution_count": 72,
   "metadata": {},
   "outputs": [
    {
     "name": "stdout",
     "output_type": "stream",
     "text": [
      "Enter a number:78\n",
      "MDR of 78: 0\n",
      "MPersistence of 78: 3\n"
     ]
    }
   ],
   "source": [
    "def MDR(num):\n",
    "    mdr = prodDigits(num)\n",
    "    while(mdr >= 10):\n",
    "        mdr = prodDigits(mdr)\n",
    "    return mdr\n",
    "\n",
    "def MPersistence(num):\n",
    "    mp = 1\n",
    "    mdr = prodDigits(num)\n",
    "    while(mdr >= 10):\n",
    "        mdr = prodDigits(mdr)\n",
    "        mp += 1\n",
    "    return mp\n",
    "\n",
    "num = int(input(\"Enter a number:\"))\n",
    "print(\"MDR of {}: {}\".format(num, MDR(num)))\n",
    "print(\"MPersistence of {}: {}\".format(num, MPersistence(num)))"
   ]
  },
  {
   "cell_type": "markdown",
   "metadata": {},
   "source": [
    "### 9. Write a function sumPdivisors() that finds the sum of proper divisors of a number. Proper divisors of a number are those numbers by which the number is divisible, except the number itself. For example proper divisors of 36 are 1, 2, 3, 4, 6, 9, 18 "
   ]
  },
  {
   "cell_type": "code",
   "execution_count": 77,
   "metadata": {},
   "outputs": [
    {
     "name": "stdout",
     "output_type": "stream",
     "text": [
      "Enter a number:18\n",
      "Sum of proper divisor or 18 is 21.\n"
     ]
    }
   ],
   "source": [
    "def sumPdivisors(num):\n",
    "    dsum = 0\n",
    "    for i in range(1, num):\n",
    "        if num%i == 0:\n",
    "            dsum += i\n",
    "    return dsum\n",
    "    \n",
    "num = int(input(\"Enter a number:\"))\n",
    "print(\"Sum of proper divisor or {} is {}.\".format(num, sumPdivisors(num)))\n",
    "    "
   ]
  },
  {
   "cell_type": "markdown",
   "metadata": {},
   "source": [
    "### 10. A number is called perfect if the sum of proper divisors of that number is equal to the number. For example 28 is perfect number, since 1+2+4+7+14=28. Write a program to print all the perfect numbers in a given range"
   ]
  },
  {
   "cell_type": "code",
   "execution_count": 81,
   "metadata": {},
   "outputs": [
    {
     "name": "stdout",
     "output_type": "stream",
     "text": [
      "Enter starting number of the range:50\n",
      "Enter ending number of the range:100\n"
     ]
    }
   ],
   "source": [
    "lnum = int(input(\"Enter starting number of the range:\"))\n",
    "rnum = int(input(\"Enter ending number of the range:\"))\n",
    "\n",
    "for i in range(lnum, rnum+1):\n",
    "    if(sumPdivisors(i) == i):\n",
    "        print(i)"
   ]
  },
  {
   "cell_type": "markdown",
   "metadata": {},
   "source": [
    "### 11. Two different numbers are called amicable numbers if the sum of the proper divisors of each is equal to the other number. For example 220 and 284 are amicable numbers. Sum of proper divisors of 220 = 1+2+4+5+10+11+20+22+44+55+110 = 284 Sum of proper divisors of 284 = 1+2+4+71+142 = 220 Write a function to print pairs of amicable numbers in a range"
   ]
  },
  {
   "cell_type": "code",
   "execution_count": 83,
   "metadata": {},
   "outputs": [
    {
     "name": "stdout",
     "output_type": "stream",
     "text": [
      "Enter starting number of the range:10\n",
      "Enter ending number of the range:1000\n",
      "28 , 28\n",
      "220 , 284\n",
      "496 , 496\n"
     ]
    }
   ],
   "source": [
    "lnum = int(input(\"Enter starting number of the range:\"))\n",
    "rnum = int(input(\"Enter ending number of the range:\"))\n",
    "\n",
    "#checking for amicable pars and print it\n",
    "ele = [i for i in range(lnum, rnum+1)]\n",
    "for i in ele:\n",
    "    divisorSum = sumPdivisors(i)\n",
    "    if i == sumPdivisors(divisorSum) and divisorSum >= lnum and divisorSum <= rnum:\n",
    "        print(i, \",\", divisorSum)\n",
    "        if divisorSum in ele:\n",
    "            ele.remove(divisorSum)\n"
   ]
  },
  {
   "cell_type": "markdown",
   "metadata": {},
   "source": [
    "### 12. Write a program which can filter odd numbers in a list by using filter function"
   ]
  },
  {
   "cell_type": "code",
   "execution_count": 91,
   "metadata": {},
   "outputs": [
    {
     "name": "stdout",
     "output_type": "stream",
     "text": [
      "Enter number:1\n",
      "Want to continue, Press 1...else Press 0:1\n",
      "Enter number:2\n",
      "Want to continue, Press 1...else Press 0:2\n",
      "Enter number:3\n",
      "Want to continue, Press 1...else Press 0:3\n",
      "Enter number:4\n",
      "Want to continue, Press 1...else Press 0:4\n",
      "Enter number:5\n",
      "Want to continue, Press 1...else Press 0:5\n",
      "Enter number:6\n",
      "Want to continue, Press 1...else Press 0:6\n",
      "Enter number:7\n",
      "Want to continue, Press 1...else Press 0:7\n",
      "Enter number:8\n",
      "Want to continue, Press 1...else Press 0:8\n",
      "Enter number:9\n",
      "Want to continue, Press 1...else Press 0:9\n",
      "Enter number:1\n",
      "Want to continue, Press 1...else Press 0:1\n",
      "Enter number:10\n",
      "Want to continue, Press 1...else Press 0:0\n",
      "User List is:  [1, 2, 3, 4, 5, 6, 7, 8, 9, 1, 10]\n",
      "The filtered list after filtering odd number is:  [2, 4, 6, 8, 10]\n"
     ]
    }
   ],
   "source": [
    "userList = []\n",
    "cont = 1\n",
    "while(cont):\n",
    "    num = int(input(\"Enter number:\"))\n",
    "    userList.append(num)\n",
    "    cont = int(input(\"Want to continue, Press 1...else Press 0:\"))\n",
    "    \n",
    "#filtering out the even number\n",
    "filteredList = list(filter(lambda x : x%2 == 0, userList))\n",
    "print(\"User List is: \", userList)\n",
    "print(\"The filtered list after filtering odd number is: \", filteredList)"
   ]
  },
  {
   "cell_type": "markdown",
   "metadata": {},
   "source": [
    "### 13. Write a program which can map() to make a list whose elements are cube of elements in a given list"
   ]
  },
  {
   "cell_type": "code",
   "execution_count": 89,
   "metadata": {},
   "outputs": [
    {
     "name": "stdout",
     "output_type": "stream",
     "text": [
      "Enter number:1\n",
      "Want to continue, Press 1...else Press 0:2\n",
      "Enter number:3\n",
      "Want to continue, Press 1...else Press 0:5\n",
      "Enter number:5\n",
      "Want to continue, Press 1...else Press 0:4\n",
      "Enter number:6\n",
      "Want to continue, Press 1...else Press 0:0\n",
      "The mapped list after mapping the elements into their cube is:  [1, 27, 125, 216]\n"
     ]
    }
   ],
   "source": [
    "userList = []\n",
    "cont = 1\n",
    "while(cont):\n",
    "    num = int(input(\"Enter number:\"))\n",
    "    userList.append(num)\n",
    "    cont = int(input(\"Want to continue, Press 1...else Press 0:\"))\n",
    "    \n",
    "#Mapping a list\n",
    "mappedList = list(map(lambda x : x*x*x, userList))\n",
    "print(\"User List is: \", userList)\n",
    "print(\"The mapped list after mapping the elements into their cube is: \", mappedList)"
   ]
  },
  {
   "cell_type": "markdown",
   "metadata": {},
   "source": [
    "### 14. Write a program which can map() and filter() to make a list whose elements are cube of even number in a given list"
   ]
  },
  {
   "cell_type": "code",
   "execution_count": 90,
   "metadata": {},
   "outputs": [
    {
     "name": "stdout",
     "output_type": "stream",
     "text": [
      "Enter number:1\n",
      "Want to continue, Press 1...else Press 0:1\n",
      "Enter number:2\n",
      "Want to continue, Press 1...else Press 0:2\n",
      "Enter number:3\n",
      "Want to continue, Press 1...else Press 0:3\n",
      "Enter number:4\n",
      "Want to continue, Press 1...else Press 0:4\n",
      "Enter number:5\n",
      "Want to continue, Press 1...else Press 0:5\n",
      "Enter number:6\n",
      "Want to continue, Press 1...else Press 0:6\n",
      "Enter number:7\n",
      "Want to continue, Press 1...else Press 0:7\n",
      "Enter number:8\n",
      "Want to continue, Press 1...else Press 0:8\n",
      "Enter number:9\n",
      "Want to continue, Press 1...else Press 0:9\n",
      "Enter number:10\n",
      "Want to continue, Press 1...else Press 0:0\n",
      "User List is:  [1, 2, 3, 4, 5, 6, 7, 8, 9, 10]\n",
      "List after filtering out the even number and cubing it's elements is:  [8, 64, 216, 512, 1000]\n"
     ]
    }
   ],
   "source": [
    "userList = []\n",
    "cont = 1\n",
    "while(cont):\n",
    "    num = int(input(\"Enter number:\"))\n",
    "    userList.append(num)\n",
    "    cont = int(input(\"Want to continue, Press 1...else Press 0:\"))\n",
    "    \n",
    "#filtering and mapping\n",
    "filteredList = list(filter(lambda x: x%2 == 0, userList))\n",
    "mappedList = list(map(lambda x : x*x*x, filteredList))\n",
    "print(\"User List is: \", userList)\n",
    "print(\"List after filtering out the even number and cubing it's elements is: \", mappedList)"
   ]
  }
 ],
 "metadata": {
  "kernelspec": {
   "display_name": "Python 3",
   "language": "python",
   "name": "python3"
  },
  "language_info": {
   "codemirror_mode": {
    "name": "ipython",
    "version": 3
   },
   "file_extension": ".py",
   "mimetype": "text/x-python",
   "name": "python",
   "nbconvert_exporter": "python",
   "pygments_lexer": "ipython3",
   "version": "3.7.6"
  }
 },
 "nbformat": 4,
 "nbformat_minor": 4
}
