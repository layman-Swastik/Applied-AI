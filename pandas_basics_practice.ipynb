{
  "nbformat": 4,
  "nbformat_minor": 0,
  "metadata": {
    "colab": {
      "name": "pandas_basics_practice.ipynb",
      "provenance": [],
      "include_colab_link": true
    },
    "kernelspec": {
      "display_name": "Python 3",
      "language": "python",
      "name": "python3"
    }
  },
  "cells": [
    {
      "cell_type": "markdown",
      "metadata": {
        "id": "view-in-github",
        "colab_type": "text"
      },
      "source": [
        "<a href=\"https://colab.research.google.com/github/layman-Swastik/Applied-AI/blob/main/pandas_basics_practice.ipynb\" target=\"_parent\"><img src=\"https://colab.research.google.com/assets/colab-badge.svg\" alt=\"Open In Colab\"/></a>"
      ]
    },
    {
      "cell_type": "markdown",
      "metadata": {
        "id": "3GZsxfqu4qDd"
      },
      "source": [
        "**<H1>[Optional Assignment] Pandas (for basic understanding) Questions:</H1>**"
      ]
    },
    {
      "cell_type": "code",
      "metadata": {
        "id": "zgfVDR8qVjV1"
      },
      "source": [
        "import pandas as pd\n",
        "import numpy as np"
      ],
      "execution_count": 4,
      "outputs": []
    },
    {
      "cell_type": "markdown",
      "metadata": {
        "id": "WFYuAxS2hcu6"
      },
      "source": [
        "**Consider the following Python dictionary data and Python list labels:**\n",
        "\n",
        "data = {'birds': ['Cranes', 'Cranes', 'plovers', 'spoonbills', 'spoonbills', 'Cranes', 'plovers', 'Cranes', 'spoonbills', 'spoonbills'],\n",
        "        'age': [3.5, 4, 1.5, np.nan, 6, 3, 5.5, np.nan, 8, 4],\n",
        "        'visits': [2, 4, 3, 4, 3, 4, 2, 2, 3, 2],\n",
        "        'priority': ['yes', 'yes', 'no', 'yes', 'no', 'no', 'no', 'yes', 'no', 'no']}\n",
        "\n",
        "labels = ['a', 'b', 'c', 'd', 'e', 'f', 'g', 'h', 'i', 'j']\n"
      ]
    },
    {
      "cell_type": "markdown",
      "metadata": {
        "id": "KaY8jRX3hcu9"
      },
      "source": [
        "**1. Create a DataFrame birds from this dictionary data which has the index labels.**"
      ]
    },
    {
      "cell_type": "code",
      "metadata": {
        "id": "AWrM74tnhcu_"
      },
      "source": [
        "data = {'birds': ['Cranes', 'Cranes', 'plovers', 'spoonbills', 'spoonbills', 'Cranes', 'plovers', 'Cranes', 'spoonbills', 'spoonbills'], 'age': [3.5, 4, 1.5, np.nan, 6, 3, 5.5, np.nan, 8, 4], 'visits': [2, 4, 3, 4, 3, 4, 2, 2, 3, 2], 'priority': ['yes', 'yes', 'no', 'yes', 'no', 'no', 'no', 'yes', 'no', 'no']}\n",
        "\n",
        "labels = ['a', 'b', 'c', 'd', 'e', 'f', 'g', 'h', 'i', 'j']\n",
        "\n",
        "#creating the dataframe\n",
        "birds = pd.DataFrame(data, index = labels)"
      ],
      "execution_count": 6,
      "outputs": []
    },
    {
      "cell_type": "markdown",
      "metadata": {
        "id": "31bQ4H55hcvG"
      },
      "source": [
        "**2. Display a summary of the basic information about birds DataFrame and its data.**"
      ]
    },
    {
      "cell_type": "code",
      "metadata": {
        "id": "PT7e5BiThcvI",
        "colab": {
          "base_uri": "https://localhost:8080/"
        },
        "outputId": "405d5374-60b3-4d8f-8a48-32a71a5583f6"
      },
      "source": [
        "print(birds) #printing DataFrame"
      ],
      "execution_count": 7,
      "outputs": [
        {
          "output_type": "stream",
          "text": [
            "        birds  age  visits priority\n",
            "a      Cranes  3.5       2      yes\n",
            "b      Cranes  4.0       4      yes\n",
            "c     plovers  1.5       3       no\n",
            "d  spoonbills  NaN       4      yes\n",
            "e  spoonbills  6.0       3       no\n",
            "f      Cranes  3.0       4       no\n",
            "g     plovers  5.5       2       no\n",
            "h      Cranes  NaN       2      yes\n",
            "i  spoonbills  8.0       3       no\n",
            "j  spoonbills  4.0       2       no\n"
          ],
          "name": "stdout"
        }
      ]
    },
    {
      "cell_type": "code",
      "metadata": {
        "colab": {
          "base_uri": "https://localhost:8080/"
        },
        "id": "dNoGwReWXqom",
        "outputId": "3467bea7-427e-4e2a-8177-c1630c10464b"
      },
      "source": [
        "birds.shape #shape of the dataframe "
      ],
      "execution_count": 11,
      "outputs": [
        {
          "output_type": "execute_result",
          "data": {
            "text/plain": [
              "(10, 4)"
            ]
          },
          "metadata": {
            "tags": []
          },
          "execution_count": 11
        }
      ]
    },
    {
      "cell_type": "code",
      "metadata": {
        "colab": {
          "base_uri": "https://localhost:8080/"
        },
        "id": "3k0W2_uY-rx8",
        "outputId": "2d973212-dfa6-4532-e1a2-901a87b9c36f"
      },
      "source": [
        "birds.dtypes  #getting the data types or data domin of each column "
      ],
      "execution_count": 32,
      "outputs": [
        {
          "output_type": "execute_result",
          "data": {
            "text/plain": [
              "birds        object\n",
              "age         float64\n",
              "visits        int64\n",
              "priority     object\n",
              "dtype: object"
            ]
          },
          "metadata": {
            "tags": []
          },
          "execution_count": 32
        }
      ]
    },
    {
      "cell_type": "code",
      "metadata": {
        "colab": {
          "base_uri": "https://localhost:8080/"
        },
        "id": "MouT-2k_X6_6",
        "outputId": "e3f538c8-99c7-49d2-aac5-ba602ce629f3"
      },
      "source": [
        "birds.isnull().sum(axis = 0) #checking the number of NaN values present in each column"
      ],
      "execution_count": 25,
      "outputs": [
        {
          "output_type": "execute_result",
          "data": {
            "text/plain": [
              "birds       0\n",
              "age         2\n",
              "visits      0\n",
              "priority    0\n",
              "dtype: int64"
            ]
          },
          "metadata": {
            "tags": []
          },
          "execution_count": 25
        }
      ]
    },
    {
      "cell_type": "code",
      "metadata": {
        "colab": {
          "base_uri": "https://localhost:8080/",
          "height": 297
        },
        "id": "9mbPws4ZW0VJ",
        "outputId": "417efde6-670a-44c7-8c03-e80453344f96"
      },
      "source": [
        "birds.describe() #statistical summary"
      ],
      "execution_count": 9,
      "outputs": [
        {
          "output_type": "execute_result",
          "data": {
            "text/html": [
              "<div>\n",
              "<style scoped>\n",
              "    .dataframe tbody tr th:only-of-type {\n",
              "        vertical-align: middle;\n",
              "    }\n",
              "\n",
              "    .dataframe tbody tr th {\n",
              "        vertical-align: top;\n",
              "    }\n",
              "\n",
              "    .dataframe thead th {\n",
              "        text-align: right;\n",
              "    }\n",
              "</style>\n",
              "<table border=\"1\" class=\"dataframe\">\n",
              "  <thead>\n",
              "    <tr style=\"text-align: right;\">\n",
              "      <th></th>\n",
              "      <th>age</th>\n",
              "      <th>visits</th>\n",
              "    </tr>\n",
              "  </thead>\n",
              "  <tbody>\n",
              "    <tr>\n",
              "      <th>count</th>\n",
              "      <td>8.000000</td>\n",
              "      <td>10.000000</td>\n",
              "    </tr>\n",
              "    <tr>\n",
              "      <th>mean</th>\n",
              "      <td>4.437500</td>\n",
              "      <td>2.900000</td>\n",
              "    </tr>\n",
              "    <tr>\n",
              "      <th>std</th>\n",
              "      <td>2.007797</td>\n",
              "      <td>0.875595</td>\n",
              "    </tr>\n",
              "    <tr>\n",
              "      <th>min</th>\n",
              "      <td>1.500000</td>\n",
              "      <td>2.000000</td>\n",
              "    </tr>\n",
              "    <tr>\n",
              "      <th>25%</th>\n",
              "      <td>3.375000</td>\n",
              "      <td>2.000000</td>\n",
              "    </tr>\n",
              "    <tr>\n",
              "      <th>50%</th>\n",
              "      <td>4.000000</td>\n",
              "      <td>3.000000</td>\n",
              "    </tr>\n",
              "    <tr>\n",
              "      <th>75%</th>\n",
              "      <td>5.625000</td>\n",
              "      <td>3.750000</td>\n",
              "    </tr>\n",
              "    <tr>\n",
              "      <th>max</th>\n",
              "      <td>8.000000</td>\n",
              "      <td>4.000000</td>\n",
              "    </tr>\n",
              "  </tbody>\n",
              "</table>\n",
              "</div>"
            ],
            "text/plain": [
              "            age     visits\n",
              "count  8.000000  10.000000\n",
              "mean   4.437500   2.900000\n",
              "std    2.007797   0.875595\n",
              "min    1.500000   2.000000\n",
              "25%    3.375000   2.000000\n",
              "50%    4.000000   3.000000\n",
              "75%    5.625000   3.750000\n",
              "max    8.000000   4.000000"
            ]
          },
          "metadata": {
            "tags": []
          },
          "execution_count": 9
        }
      ]
    },
    {
      "cell_type": "code",
      "metadata": {
        "id": "ZR8xcAVjXQik"
      },
      "source": [
        ""
      ],
      "execution_count": null,
      "outputs": []
    },
    {
      "cell_type": "markdown",
      "metadata": {
        "id": "ppsyynzjhcvN"
      },
      "source": [
        "**3. Print the first 2 rows of the birds dataframe **"
      ]
    },
    {
      "cell_type": "code",
      "metadata": {
        "id": "mJtG2ES9hcvQ",
        "colab": {
          "base_uri": "https://localhost:8080/",
          "height": 111
        },
        "outputId": "69805391-7ef0-4340-ed66-7a22abd68fff"
      },
      "source": [
        "birds.head(2)"
      ],
      "execution_count": 26,
      "outputs": [
        {
          "output_type": "execute_result",
          "data": {
            "text/html": [
              "<div>\n",
              "<style scoped>\n",
              "    .dataframe tbody tr th:only-of-type {\n",
              "        vertical-align: middle;\n",
              "    }\n",
              "\n",
              "    .dataframe tbody tr th {\n",
              "        vertical-align: top;\n",
              "    }\n",
              "\n",
              "    .dataframe thead th {\n",
              "        text-align: right;\n",
              "    }\n",
              "</style>\n",
              "<table border=\"1\" class=\"dataframe\">\n",
              "  <thead>\n",
              "    <tr style=\"text-align: right;\">\n",
              "      <th></th>\n",
              "      <th>birds</th>\n",
              "      <th>age</th>\n",
              "      <th>visits</th>\n",
              "      <th>priority</th>\n",
              "    </tr>\n",
              "  </thead>\n",
              "  <tbody>\n",
              "    <tr>\n",
              "      <th>a</th>\n",
              "      <td>Cranes</td>\n",
              "      <td>3.5</td>\n",
              "      <td>2</td>\n",
              "      <td>yes</td>\n",
              "    </tr>\n",
              "    <tr>\n",
              "      <th>b</th>\n",
              "      <td>Cranes</td>\n",
              "      <td>4.0</td>\n",
              "      <td>4</td>\n",
              "      <td>yes</td>\n",
              "    </tr>\n",
              "  </tbody>\n",
              "</table>\n",
              "</div>"
            ],
            "text/plain": [
              "    birds  age  visits priority\n",
              "a  Cranes  3.5       2      yes\n",
              "b  Cranes  4.0       4      yes"
            ]
          },
          "metadata": {
            "tags": []
          },
          "execution_count": 26
        }
      ]
    },
    {
      "cell_type": "markdown",
      "metadata": {
        "id": "331CiAQDhcvW"
      },
      "source": [
        "**4. Print all the rows with only 'birds' and 'age' columns from the dataframe**"
      ]
    },
    {
      "cell_type": "code",
      "metadata": {
        "id": "eJm1icJhhcvY",
        "colab": {
          "base_uri": "https://localhost:8080/",
          "height": 359
        },
        "outputId": "30b9512f-b0b2-4686-f779-a6cdf8d88027"
      },
      "source": [
        "birds[['birds','age']]"
      ],
      "execution_count": 33,
      "outputs": [
        {
          "output_type": "execute_result",
          "data": {
            "text/html": [
              "<div>\n",
              "<style scoped>\n",
              "    .dataframe tbody tr th:only-of-type {\n",
              "        vertical-align: middle;\n",
              "    }\n",
              "\n",
              "    .dataframe tbody tr th {\n",
              "        vertical-align: top;\n",
              "    }\n",
              "\n",
              "    .dataframe thead th {\n",
              "        text-align: right;\n",
              "    }\n",
              "</style>\n",
              "<table border=\"1\" class=\"dataframe\">\n",
              "  <thead>\n",
              "    <tr style=\"text-align: right;\">\n",
              "      <th></th>\n",
              "      <th>birds</th>\n",
              "      <th>age</th>\n",
              "    </tr>\n",
              "  </thead>\n",
              "  <tbody>\n",
              "    <tr>\n",
              "      <th>a</th>\n",
              "      <td>Cranes</td>\n",
              "      <td>3.5</td>\n",
              "    </tr>\n",
              "    <tr>\n",
              "      <th>b</th>\n",
              "      <td>Cranes</td>\n",
              "      <td>4.0</td>\n",
              "    </tr>\n",
              "    <tr>\n",
              "      <th>c</th>\n",
              "      <td>plovers</td>\n",
              "      <td>1.5</td>\n",
              "    </tr>\n",
              "    <tr>\n",
              "      <th>d</th>\n",
              "      <td>spoonbills</td>\n",
              "      <td>NaN</td>\n",
              "    </tr>\n",
              "    <tr>\n",
              "      <th>e</th>\n",
              "      <td>spoonbills</td>\n",
              "      <td>6.0</td>\n",
              "    </tr>\n",
              "    <tr>\n",
              "      <th>f</th>\n",
              "      <td>Cranes</td>\n",
              "      <td>3.0</td>\n",
              "    </tr>\n",
              "    <tr>\n",
              "      <th>g</th>\n",
              "      <td>plovers</td>\n",
              "      <td>5.5</td>\n",
              "    </tr>\n",
              "    <tr>\n",
              "      <th>h</th>\n",
              "      <td>Cranes</td>\n",
              "      <td>NaN</td>\n",
              "    </tr>\n",
              "    <tr>\n",
              "      <th>i</th>\n",
              "      <td>spoonbills</td>\n",
              "      <td>8.0</td>\n",
              "    </tr>\n",
              "    <tr>\n",
              "      <th>j</th>\n",
              "      <td>spoonbills</td>\n",
              "      <td>4.0</td>\n",
              "    </tr>\n",
              "  </tbody>\n",
              "</table>\n",
              "</div>"
            ],
            "text/plain": [
              "        birds  age\n",
              "a      Cranes  3.5\n",
              "b      Cranes  4.0\n",
              "c     plovers  1.5\n",
              "d  spoonbills  NaN\n",
              "e  spoonbills  6.0\n",
              "f      Cranes  3.0\n",
              "g     plovers  5.5\n",
              "h      Cranes  NaN\n",
              "i  spoonbills  8.0\n",
              "j  spoonbills  4.0"
            ]
          },
          "metadata": {
            "tags": []
          },
          "execution_count": 33
        }
      ]
    },
    {
      "cell_type": "markdown",
      "metadata": {
        "id": "33v_rzNyhcvf"
      },
      "source": [
        "**5. select [2, 3, 7] rows and in columns ['birds', 'age', 'visits']**"
      ]
    },
    {
      "cell_type": "code",
      "metadata": {
        "id": "ia5weqCOhcvh",
        "colab": {
          "base_uri": "https://localhost:8080/",
          "height": 142
        },
        "outputId": "f42fbd51-094a-4091-9a51-0fdb34b6ccf4"
      },
      "source": [
        "birds.iloc[[2,3,7], :-1]"
      ],
      "execution_count": 50,
      "outputs": [
        {
          "output_type": "execute_result",
          "data": {
            "text/html": [
              "<div>\n",
              "<style scoped>\n",
              "    .dataframe tbody tr th:only-of-type {\n",
              "        vertical-align: middle;\n",
              "    }\n",
              "\n",
              "    .dataframe tbody tr th {\n",
              "        vertical-align: top;\n",
              "    }\n",
              "\n",
              "    .dataframe thead th {\n",
              "        text-align: right;\n",
              "    }\n",
              "</style>\n",
              "<table border=\"1\" class=\"dataframe\">\n",
              "  <thead>\n",
              "    <tr style=\"text-align: right;\">\n",
              "      <th></th>\n",
              "      <th>birds</th>\n",
              "      <th>age</th>\n",
              "      <th>visits</th>\n",
              "    </tr>\n",
              "  </thead>\n",
              "  <tbody>\n",
              "    <tr>\n",
              "      <th>c</th>\n",
              "      <td>plovers</td>\n",
              "      <td>1.5</td>\n",
              "      <td>3</td>\n",
              "    </tr>\n",
              "    <tr>\n",
              "      <th>d</th>\n",
              "      <td>spoonbills</td>\n",
              "      <td>NaN</td>\n",
              "      <td>4</td>\n",
              "    </tr>\n",
              "    <tr>\n",
              "      <th>h</th>\n",
              "      <td>Cranes</td>\n",
              "      <td>NaN</td>\n",
              "      <td>2</td>\n",
              "    </tr>\n",
              "  </tbody>\n",
              "</table>\n",
              "</div>"
            ],
            "text/plain": [
              "        birds  age  visits\n",
              "c     plovers  1.5       3\n",
              "d  spoonbills  NaN       4\n",
              "h      Cranes  NaN       2"
            ]
          },
          "metadata": {
            "tags": []
          },
          "execution_count": 50
        }
      ]
    },
    {
      "cell_type": "markdown",
      "metadata": {
        "id": "uulxo5y-hcvo"
      },
      "source": [
        "**6. select the rows where the number of visits is less than 4**"
      ]
    },
    {
      "cell_type": "code",
      "metadata": {
        "id": "6Khj7LfZhcvq",
        "colab": {
          "base_uri": "https://localhost:8080/",
          "height": 266
        },
        "outputId": "dc57182a-5693-4e0a-935e-94b35655faa0"
      },
      "source": [
        "birds.loc[birds['visits'] < 4 , : ]"
      ],
      "execution_count": 52,
      "outputs": [
        {
          "output_type": "execute_result",
          "data": {
            "text/html": [
              "<div>\n",
              "<style scoped>\n",
              "    .dataframe tbody tr th:only-of-type {\n",
              "        vertical-align: middle;\n",
              "    }\n",
              "\n",
              "    .dataframe tbody tr th {\n",
              "        vertical-align: top;\n",
              "    }\n",
              "\n",
              "    .dataframe thead th {\n",
              "        text-align: right;\n",
              "    }\n",
              "</style>\n",
              "<table border=\"1\" class=\"dataframe\">\n",
              "  <thead>\n",
              "    <tr style=\"text-align: right;\">\n",
              "      <th></th>\n",
              "      <th>birds</th>\n",
              "      <th>age</th>\n",
              "      <th>visits</th>\n",
              "      <th>priority</th>\n",
              "    </tr>\n",
              "  </thead>\n",
              "  <tbody>\n",
              "    <tr>\n",
              "      <th>a</th>\n",
              "      <td>Cranes</td>\n",
              "      <td>3.5</td>\n",
              "      <td>2</td>\n",
              "      <td>yes</td>\n",
              "    </tr>\n",
              "    <tr>\n",
              "      <th>c</th>\n",
              "      <td>plovers</td>\n",
              "      <td>1.5</td>\n",
              "      <td>3</td>\n",
              "      <td>no</td>\n",
              "    </tr>\n",
              "    <tr>\n",
              "      <th>e</th>\n",
              "      <td>spoonbills</td>\n",
              "      <td>6.0</td>\n",
              "      <td>3</td>\n",
              "      <td>no</td>\n",
              "    </tr>\n",
              "    <tr>\n",
              "      <th>g</th>\n",
              "      <td>plovers</td>\n",
              "      <td>5.5</td>\n",
              "      <td>2</td>\n",
              "      <td>no</td>\n",
              "    </tr>\n",
              "    <tr>\n",
              "      <th>h</th>\n",
              "      <td>Cranes</td>\n",
              "      <td>NaN</td>\n",
              "      <td>2</td>\n",
              "      <td>yes</td>\n",
              "    </tr>\n",
              "    <tr>\n",
              "      <th>i</th>\n",
              "      <td>spoonbills</td>\n",
              "      <td>8.0</td>\n",
              "      <td>3</td>\n",
              "      <td>no</td>\n",
              "    </tr>\n",
              "    <tr>\n",
              "      <th>j</th>\n",
              "      <td>spoonbills</td>\n",
              "      <td>4.0</td>\n",
              "      <td>2</td>\n",
              "      <td>no</td>\n",
              "    </tr>\n",
              "  </tbody>\n",
              "</table>\n",
              "</div>"
            ],
            "text/plain": [
              "        birds  age  visits priority\n",
              "a      Cranes  3.5       2      yes\n",
              "c     plovers  1.5       3       no\n",
              "e  spoonbills  6.0       3       no\n",
              "g     plovers  5.5       2       no\n",
              "h      Cranes  NaN       2      yes\n",
              "i  spoonbills  8.0       3       no\n",
              "j  spoonbills  4.0       2       no"
            ]
          },
          "metadata": {
            "tags": []
          },
          "execution_count": 52
        }
      ]
    },
    {
      "cell_type": "markdown",
      "metadata": {
        "id": "sB8icEBVhcvy"
      },
      "source": [
        "**7. select the rows with columns ['birds', 'visits'] where the age is missing i.e NaN**"
      ]
    },
    {
      "cell_type": "code",
      "metadata": {
        "id": "dHoZ2z2ghcv2",
        "colab": {
          "base_uri": "https://localhost:8080/",
          "height": 111
        },
        "outputId": "142a3a50-819e-4ed1-aa17-4a13367d9e7d"
      },
      "source": [
        "birds.loc[birds['age'].isnull(), ['birds', 'visits']]"
      ],
      "execution_count": 55,
      "outputs": [
        {
          "output_type": "execute_result",
          "data": {
            "text/html": [
              "<div>\n",
              "<style scoped>\n",
              "    .dataframe tbody tr th:only-of-type {\n",
              "        vertical-align: middle;\n",
              "    }\n",
              "\n",
              "    .dataframe tbody tr th {\n",
              "        vertical-align: top;\n",
              "    }\n",
              "\n",
              "    .dataframe thead th {\n",
              "        text-align: right;\n",
              "    }\n",
              "</style>\n",
              "<table border=\"1\" class=\"dataframe\">\n",
              "  <thead>\n",
              "    <tr style=\"text-align: right;\">\n",
              "      <th></th>\n",
              "      <th>birds</th>\n",
              "      <th>visits</th>\n",
              "    </tr>\n",
              "  </thead>\n",
              "  <tbody>\n",
              "    <tr>\n",
              "      <th>d</th>\n",
              "      <td>spoonbills</td>\n",
              "      <td>4</td>\n",
              "    </tr>\n",
              "    <tr>\n",
              "      <th>h</th>\n",
              "      <td>Cranes</td>\n",
              "      <td>2</td>\n",
              "    </tr>\n",
              "  </tbody>\n",
              "</table>\n",
              "</div>"
            ],
            "text/plain": [
              "        birds  visits\n",
              "d  spoonbills       4\n",
              "h      Cranes       2"
            ]
          },
          "metadata": {
            "tags": []
          },
          "execution_count": 55
        }
      ]
    },
    {
      "cell_type": "markdown",
      "metadata": {
        "id": "sgiIkh1Ghcv-"
      },
      "source": [
        "**8. Select the rows where the birds is a Cranes and the age is less than 4**"
      ]
    },
    {
      "cell_type": "code",
      "metadata": {
        "id": "4of7A8gehcwC",
        "colab": {
          "base_uri": "https://localhost:8080/",
          "height": 111
        },
        "outputId": "ade6bb29-8478-4449-9cbc-beb421797f1a"
      },
      "source": [
        "birds.loc[(birds['birds'] == \"Cranes\") & (birds['age'] < 4), :]"
      ],
      "execution_count": 62,
      "outputs": [
        {
          "output_type": "execute_result",
          "data": {
            "text/html": [
              "<div>\n",
              "<style scoped>\n",
              "    .dataframe tbody tr th:only-of-type {\n",
              "        vertical-align: middle;\n",
              "    }\n",
              "\n",
              "    .dataframe tbody tr th {\n",
              "        vertical-align: top;\n",
              "    }\n",
              "\n",
              "    .dataframe thead th {\n",
              "        text-align: right;\n",
              "    }\n",
              "</style>\n",
              "<table border=\"1\" class=\"dataframe\">\n",
              "  <thead>\n",
              "    <tr style=\"text-align: right;\">\n",
              "      <th></th>\n",
              "      <th>birds</th>\n",
              "      <th>age</th>\n",
              "      <th>visits</th>\n",
              "      <th>priority</th>\n",
              "    </tr>\n",
              "  </thead>\n",
              "  <tbody>\n",
              "    <tr>\n",
              "      <th>a</th>\n",
              "      <td>Cranes</td>\n",
              "      <td>3.5</td>\n",
              "      <td>2</td>\n",
              "      <td>yes</td>\n",
              "    </tr>\n",
              "    <tr>\n",
              "      <th>f</th>\n",
              "      <td>Cranes</td>\n",
              "      <td>3.0</td>\n",
              "      <td>4</td>\n",
              "      <td>no</td>\n",
              "    </tr>\n",
              "  </tbody>\n",
              "</table>\n",
              "</div>"
            ],
            "text/plain": [
              "    birds  age  visits priority\n",
              "a  Cranes  3.5       2      yes\n",
              "f  Cranes  3.0       4       no"
            ]
          },
          "metadata": {
            "tags": []
          },
          "execution_count": 62
        }
      ]
    },
    {
      "cell_type": "markdown",
      "metadata": {
        "id": "IZrFrd1AhcwH"
      },
      "source": [
        "**9. Select the rows the age is between 2 and 4(inclusive)**"
      ]
    },
    {
      "cell_type": "code",
      "metadata": {
        "id": "Ij6co9oJhcwT",
        "colab": {
          "base_uri": "https://localhost:8080/",
          "height": 173
        },
        "outputId": "73ab7d81-42bc-4324-92f6-024ca00b60a7"
      },
      "source": [
        "birds.loc[(birds['age'] >= 2) & (birds['age'] <= 4), :]"
      ],
      "execution_count": 63,
      "outputs": [
        {
          "output_type": "execute_result",
          "data": {
            "text/html": [
              "<div>\n",
              "<style scoped>\n",
              "    .dataframe tbody tr th:only-of-type {\n",
              "        vertical-align: middle;\n",
              "    }\n",
              "\n",
              "    .dataframe tbody tr th {\n",
              "        vertical-align: top;\n",
              "    }\n",
              "\n",
              "    .dataframe thead th {\n",
              "        text-align: right;\n",
              "    }\n",
              "</style>\n",
              "<table border=\"1\" class=\"dataframe\">\n",
              "  <thead>\n",
              "    <tr style=\"text-align: right;\">\n",
              "      <th></th>\n",
              "      <th>birds</th>\n",
              "      <th>age</th>\n",
              "      <th>visits</th>\n",
              "      <th>priority</th>\n",
              "    </tr>\n",
              "  </thead>\n",
              "  <tbody>\n",
              "    <tr>\n",
              "      <th>a</th>\n",
              "      <td>Cranes</td>\n",
              "      <td>3.5</td>\n",
              "      <td>2</td>\n",
              "      <td>yes</td>\n",
              "    </tr>\n",
              "    <tr>\n",
              "      <th>b</th>\n",
              "      <td>Cranes</td>\n",
              "      <td>4.0</td>\n",
              "      <td>4</td>\n",
              "      <td>yes</td>\n",
              "    </tr>\n",
              "    <tr>\n",
              "      <th>f</th>\n",
              "      <td>Cranes</td>\n",
              "      <td>3.0</td>\n",
              "      <td>4</td>\n",
              "      <td>no</td>\n",
              "    </tr>\n",
              "    <tr>\n",
              "      <th>j</th>\n",
              "      <td>spoonbills</td>\n",
              "      <td>4.0</td>\n",
              "      <td>2</td>\n",
              "      <td>no</td>\n",
              "    </tr>\n",
              "  </tbody>\n",
              "</table>\n",
              "</div>"
            ],
            "text/plain": [
              "        birds  age  visits priority\n",
              "a      Cranes  3.5       2      yes\n",
              "b      Cranes  4.0       4      yes\n",
              "f      Cranes  3.0       4       no\n",
              "j  spoonbills  4.0       2       no"
            ]
          },
          "metadata": {
            "tags": []
          },
          "execution_count": 63
        }
      ]
    },
    {
      "cell_type": "markdown",
      "metadata": {
        "id": "KvV1eyyehcwX"
      },
      "source": [
        "**10. Find the total number of visits of the bird Cranes**"
      ]
    },
    {
      "cell_type": "code",
      "metadata": {
        "id": "y5NyL569hcwY",
        "colab": {
          "base_uri": "https://localhost:8080/"
        },
        "outputId": "6996c7e0-e496-40aa-a2c1-b601228a73e5"
      },
      "source": [
        "birds['visits'][birds['birds'] == 'Cranes'].sum()"
      ],
      "execution_count": 67,
      "outputs": [
        {
          "output_type": "execute_result",
          "data": {
            "text/plain": [
              "12"
            ]
          },
          "metadata": {
            "tags": []
          },
          "execution_count": 67
        }
      ]
    },
    {
      "cell_type": "markdown",
      "metadata": {
        "id": "S-1B7oDehcwf"
      },
      "source": [
        "**11. Calculate the mean age for each different birds in dataframe.**"
      ]
    },
    {
      "cell_type": "code",
      "metadata": {
        "id": "ljKjf7nyhcwg",
        "colab": {
          "base_uri": "https://localhost:8080/"
        },
        "outputId": "6b4baaab-44d3-4f4e-ed7d-ce4f1520f4a6"
      },
      "source": [
        "for bird, dframe in birds.groupby('birds'):\n",
        "  print(\"{} : {}\".format(bird, dframe.age.mean()))"
      ],
      "execution_count": 69,
      "outputs": [
        {
          "output_type": "stream",
          "text": [
            "Cranes : 3.5\n",
            "plovers : 3.5\n",
            "spoonbills : 6.0\n"
          ],
          "name": "stdout"
        }
      ]
    },
    {
      "cell_type": "markdown",
      "metadata": {
        "id": "B5HIznnMhcwl"
      },
      "source": [
        "**12. Append a new row 'k' to dataframe with your choice of values for each column. Then delete that row to return the original DataFrame.**"
      ]
    },
    {
      "cell_type": "code",
      "metadata": {
        "id": "GDDd9mXEhcwm",
        "colab": {
          "base_uri": "https://localhost:8080/"
        },
        "outputId": "b4b0417e-ed75-47e9-f306-dfb36c15c26b"
      },
      "source": [
        "print(\"Before appending:\")\n",
        "print(birds)\n",
        "ind = ['a','b','c','d','e','f','g','h','i','j','k']\n",
        "#appending a new row\n",
        "birds = birds.append({'birds': 'Eagle', 'age': 5, 'visits':3, 'priority': 'yes'}, ignore_index=True).set_index(pd.Index(ind))\n",
        "print(\"\\nAfter appending:\")\n",
        "print(birds)\n",
        "\n",
        "#deleting that row\n",
        "birds.drop('k', inplace=True)\n",
        "print(\"\\nAfter deleting:\")\n",
        "print(birds)"
      ],
      "execution_count": 109,
      "outputs": [
        {
          "output_type": "stream",
          "text": [
            "Before appending:\n",
            "        birds  age  visits priority\n",
            "a      Cranes  3.5       2      yes\n",
            "b      Cranes  4.0       4      yes\n",
            "c     plovers  1.5       3       no\n",
            "d  spoonbills  NaN       4      yes\n",
            "e  spoonbills  6.0       3       no\n",
            "f      Cranes  3.0       4       no\n",
            "g     plovers  5.5       2       no\n",
            "h      Cranes  NaN       2      yes\n",
            "i  spoonbills  8.0       3       no\n",
            "j  spoonbills  4.0       2       no\n",
            "\n",
            "After appending:\n",
            "        birds  age  visits priority\n",
            "a      Cranes  3.5       2      yes\n",
            "b      Cranes  4.0       4      yes\n",
            "c     plovers  1.5       3       no\n",
            "d  spoonbills  NaN       4      yes\n",
            "e  spoonbills  6.0       3       no\n",
            "f      Cranes  3.0       4       no\n",
            "g     plovers  5.5       2       no\n",
            "h      Cranes  NaN       2      yes\n",
            "i  spoonbills  8.0       3       no\n",
            "j  spoonbills  4.0       2       no\n",
            "k       Eagle  5.0       3      yes\n",
            "\n",
            "After deleting:\n",
            "        birds  age  visits priority\n",
            "a      Cranes  3.5       2      yes\n",
            "b      Cranes  4.0       4      yes\n",
            "c     plovers  1.5       3       no\n",
            "d  spoonbills  NaN       4      yes\n",
            "e  spoonbills  6.0       3       no\n",
            "f      Cranes  3.0       4       no\n",
            "g     plovers  5.5       2       no\n",
            "h      Cranes  NaN       2      yes\n",
            "i  spoonbills  8.0       3       no\n",
            "j  spoonbills  4.0       2       no\n"
          ],
          "name": "stdout"
        }
      ]
    },
    {
      "cell_type": "markdown",
      "metadata": {
        "id": "_cLx6xLahcwq"
      },
      "source": [
        "**13. Find the number of each type of birds in dataframe (Counts)**"
      ]
    },
    {
      "cell_type": "code",
      "metadata": {
        "id": "aTHV8JJMhcws",
        "colab": {
          "base_uri": "https://localhost:8080/"
        },
        "outputId": "b81f40e7-fdd8-4009-fe23-74d6038ff60e"
      },
      "source": [
        "for bird, dframe in birds.groupby('birds'):\n",
        "  print(\"{} : {}\".format(bird, dframe.birds.count()))"
      ],
      "execution_count": 99,
      "outputs": [
        {
          "output_type": "stream",
          "text": [
            "Cranes : 4\n",
            "plovers : 2\n",
            "spoonbills : 4\n"
          ],
          "name": "stdout"
        }
      ]
    },
    {
      "cell_type": "markdown",
      "metadata": {
        "id": "-SJ6OYuYhcww"
      },
      "source": [
        "**14. Sort dataframe (birds) first by the values in the 'age' in decending order, then by the value in the 'visits' column in ascending order.**"
      ]
    },
    {
      "cell_type": "code",
      "metadata": {
        "id": "1oeqEqBjhcwy",
        "colab": {
          "base_uri": "https://localhost:8080/",
          "height": 359
        },
        "outputId": "fc5f641c-6e7b-4aac-e728-e5d5cc11ade6"
      },
      "source": [
        "birds = birds.sort_values(by = ['age', 'visits'], ascending = [False, True])\n",
        "birds"
      ],
      "execution_count": 110,
      "outputs": [
        {
          "output_type": "execute_result",
          "data": {
            "text/html": [
              "<div>\n",
              "<style scoped>\n",
              "    .dataframe tbody tr th:only-of-type {\n",
              "        vertical-align: middle;\n",
              "    }\n",
              "\n",
              "    .dataframe tbody tr th {\n",
              "        vertical-align: top;\n",
              "    }\n",
              "\n",
              "    .dataframe thead th {\n",
              "        text-align: right;\n",
              "    }\n",
              "</style>\n",
              "<table border=\"1\" class=\"dataframe\">\n",
              "  <thead>\n",
              "    <tr style=\"text-align: right;\">\n",
              "      <th></th>\n",
              "      <th>birds</th>\n",
              "      <th>age</th>\n",
              "      <th>visits</th>\n",
              "      <th>priority</th>\n",
              "    </tr>\n",
              "  </thead>\n",
              "  <tbody>\n",
              "    <tr>\n",
              "      <th>i</th>\n",
              "      <td>spoonbills</td>\n",
              "      <td>8.0</td>\n",
              "      <td>3</td>\n",
              "      <td>no</td>\n",
              "    </tr>\n",
              "    <tr>\n",
              "      <th>e</th>\n",
              "      <td>spoonbills</td>\n",
              "      <td>6.0</td>\n",
              "      <td>3</td>\n",
              "      <td>no</td>\n",
              "    </tr>\n",
              "    <tr>\n",
              "      <th>g</th>\n",
              "      <td>plovers</td>\n",
              "      <td>5.5</td>\n",
              "      <td>2</td>\n",
              "      <td>no</td>\n",
              "    </tr>\n",
              "    <tr>\n",
              "      <th>j</th>\n",
              "      <td>spoonbills</td>\n",
              "      <td>4.0</td>\n",
              "      <td>2</td>\n",
              "      <td>no</td>\n",
              "    </tr>\n",
              "    <tr>\n",
              "      <th>b</th>\n",
              "      <td>Cranes</td>\n",
              "      <td>4.0</td>\n",
              "      <td>4</td>\n",
              "      <td>yes</td>\n",
              "    </tr>\n",
              "    <tr>\n",
              "      <th>a</th>\n",
              "      <td>Cranes</td>\n",
              "      <td>3.5</td>\n",
              "      <td>2</td>\n",
              "      <td>yes</td>\n",
              "    </tr>\n",
              "    <tr>\n",
              "      <th>f</th>\n",
              "      <td>Cranes</td>\n",
              "      <td>3.0</td>\n",
              "      <td>4</td>\n",
              "      <td>no</td>\n",
              "    </tr>\n",
              "    <tr>\n",
              "      <th>c</th>\n",
              "      <td>plovers</td>\n",
              "      <td>1.5</td>\n",
              "      <td>3</td>\n",
              "      <td>no</td>\n",
              "    </tr>\n",
              "    <tr>\n",
              "      <th>h</th>\n",
              "      <td>Cranes</td>\n",
              "      <td>NaN</td>\n",
              "      <td>2</td>\n",
              "      <td>yes</td>\n",
              "    </tr>\n",
              "    <tr>\n",
              "      <th>d</th>\n",
              "      <td>spoonbills</td>\n",
              "      <td>NaN</td>\n",
              "      <td>4</td>\n",
              "      <td>yes</td>\n",
              "    </tr>\n",
              "  </tbody>\n",
              "</table>\n",
              "</div>"
            ],
            "text/plain": [
              "        birds  age  visits priority\n",
              "i  spoonbills  8.0       3       no\n",
              "e  spoonbills  6.0       3       no\n",
              "g     plovers  5.5       2       no\n",
              "j  spoonbills  4.0       2       no\n",
              "b      Cranes  4.0       4      yes\n",
              "a      Cranes  3.5       2      yes\n",
              "f      Cranes  3.0       4       no\n",
              "c     plovers  1.5       3       no\n",
              "h      Cranes  NaN       2      yes\n",
              "d  spoonbills  NaN       4      yes"
            ]
          },
          "metadata": {
            "tags": []
          },
          "execution_count": 110
        }
      ]
    },
    {
      "cell_type": "markdown",
      "metadata": {
        "id": "JaKj7ZQUhcw7"
      },
      "source": [
        "**15. Replace the priority column values with'yes' should be 1 and 'no' should be 0**"
      ]
    },
    {
      "cell_type": "code",
      "metadata": {
        "id": "AJAPYiIHhcw9",
        "colab": {
          "base_uri": "https://localhost:8080/",
          "height": 359
        },
        "outputId": "210a2415-fbdd-4022-d229-5d3f25f6b417"
      },
      "source": [
        "birds = birds.replace({'priority' : {'yes':1, 'no':0}})\n",
        "birds"
      ],
      "execution_count": 111,
      "outputs": [
        {
          "output_type": "execute_result",
          "data": {
            "text/html": [
              "<div>\n",
              "<style scoped>\n",
              "    .dataframe tbody tr th:only-of-type {\n",
              "        vertical-align: middle;\n",
              "    }\n",
              "\n",
              "    .dataframe tbody tr th {\n",
              "        vertical-align: top;\n",
              "    }\n",
              "\n",
              "    .dataframe thead th {\n",
              "        text-align: right;\n",
              "    }\n",
              "</style>\n",
              "<table border=\"1\" class=\"dataframe\">\n",
              "  <thead>\n",
              "    <tr style=\"text-align: right;\">\n",
              "      <th></th>\n",
              "      <th>birds</th>\n",
              "      <th>age</th>\n",
              "      <th>visits</th>\n",
              "      <th>priority</th>\n",
              "    </tr>\n",
              "  </thead>\n",
              "  <tbody>\n",
              "    <tr>\n",
              "      <th>i</th>\n",
              "      <td>spoonbills</td>\n",
              "      <td>8.0</td>\n",
              "      <td>3</td>\n",
              "      <td>0</td>\n",
              "    </tr>\n",
              "    <tr>\n",
              "      <th>e</th>\n",
              "      <td>spoonbills</td>\n",
              "      <td>6.0</td>\n",
              "      <td>3</td>\n",
              "      <td>0</td>\n",
              "    </tr>\n",
              "    <tr>\n",
              "      <th>g</th>\n",
              "      <td>plovers</td>\n",
              "      <td>5.5</td>\n",
              "      <td>2</td>\n",
              "      <td>0</td>\n",
              "    </tr>\n",
              "    <tr>\n",
              "      <th>j</th>\n",
              "      <td>spoonbills</td>\n",
              "      <td>4.0</td>\n",
              "      <td>2</td>\n",
              "      <td>0</td>\n",
              "    </tr>\n",
              "    <tr>\n",
              "      <th>b</th>\n",
              "      <td>Cranes</td>\n",
              "      <td>4.0</td>\n",
              "      <td>4</td>\n",
              "      <td>1</td>\n",
              "    </tr>\n",
              "    <tr>\n",
              "      <th>a</th>\n",
              "      <td>Cranes</td>\n",
              "      <td>3.5</td>\n",
              "      <td>2</td>\n",
              "      <td>1</td>\n",
              "    </tr>\n",
              "    <tr>\n",
              "      <th>f</th>\n",
              "      <td>Cranes</td>\n",
              "      <td>3.0</td>\n",
              "      <td>4</td>\n",
              "      <td>0</td>\n",
              "    </tr>\n",
              "    <tr>\n",
              "      <th>c</th>\n",
              "      <td>plovers</td>\n",
              "      <td>1.5</td>\n",
              "      <td>3</td>\n",
              "      <td>0</td>\n",
              "    </tr>\n",
              "    <tr>\n",
              "      <th>h</th>\n",
              "      <td>Cranes</td>\n",
              "      <td>NaN</td>\n",
              "      <td>2</td>\n",
              "      <td>1</td>\n",
              "    </tr>\n",
              "    <tr>\n",
              "      <th>d</th>\n",
              "      <td>spoonbills</td>\n",
              "      <td>NaN</td>\n",
              "      <td>4</td>\n",
              "      <td>1</td>\n",
              "    </tr>\n",
              "  </tbody>\n",
              "</table>\n",
              "</div>"
            ],
            "text/plain": [
              "        birds  age  visits  priority\n",
              "i  spoonbills  8.0       3         0\n",
              "e  spoonbills  6.0       3         0\n",
              "g     plovers  5.5       2         0\n",
              "j  spoonbills  4.0       2         0\n",
              "b      Cranes  4.0       4         1\n",
              "a      Cranes  3.5       2         1\n",
              "f      Cranes  3.0       4         0\n",
              "c     plovers  1.5       3         0\n",
              "h      Cranes  NaN       2         1\n",
              "d  spoonbills  NaN       4         1"
            ]
          },
          "metadata": {
            "tags": []
          },
          "execution_count": 111
        }
      ]
    },
    {
      "cell_type": "markdown",
      "metadata": {
        "id": "E2EFmujbhcxA"
      },
      "source": [
        "**16. In the 'birds' column, change the 'Cranes' entries to 'trumpeters'.**"
      ]
    },
    {
      "cell_type": "code",
      "metadata": {
        "id": "Bi29Cc6lhcxC",
        "colab": {
          "base_uri": "https://localhost:8080/",
          "height": 359
        },
        "outputId": "78aa21a9-16d6-4612-ca38-3bad2163a5d8"
      },
      "source": [
        "birds = birds.replace({'birds' : {'Cranes':'trumpeters'}})\n",
        "birds"
      ],
      "execution_count": 113,
      "outputs": [
        {
          "output_type": "execute_result",
          "data": {
            "text/html": [
              "<div>\n",
              "<style scoped>\n",
              "    .dataframe tbody tr th:only-of-type {\n",
              "        vertical-align: middle;\n",
              "    }\n",
              "\n",
              "    .dataframe tbody tr th {\n",
              "        vertical-align: top;\n",
              "    }\n",
              "\n",
              "    .dataframe thead th {\n",
              "        text-align: right;\n",
              "    }\n",
              "</style>\n",
              "<table border=\"1\" class=\"dataframe\">\n",
              "  <thead>\n",
              "    <tr style=\"text-align: right;\">\n",
              "      <th></th>\n",
              "      <th>birds</th>\n",
              "      <th>age</th>\n",
              "      <th>visits</th>\n",
              "      <th>priority</th>\n",
              "    </tr>\n",
              "  </thead>\n",
              "  <tbody>\n",
              "    <tr>\n",
              "      <th>i</th>\n",
              "      <td>spoonbills</td>\n",
              "      <td>8.0</td>\n",
              "      <td>3</td>\n",
              "      <td>0</td>\n",
              "    </tr>\n",
              "    <tr>\n",
              "      <th>e</th>\n",
              "      <td>spoonbills</td>\n",
              "      <td>6.0</td>\n",
              "      <td>3</td>\n",
              "      <td>0</td>\n",
              "    </tr>\n",
              "    <tr>\n",
              "      <th>g</th>\n",
              "      <td>plovers</td>\n",
              "      <td>5.5</td>\n",
              "      <td>2</td>\n",
              "      <td>0</td>\n",
              "    </tr>\n",
              "    <tr>\n",
              "      <th>j</th>\n",
              "      <td>spoonbills</td>\n",
              "      <td>4.0</td>\n",
              "      <td>2</td>\n",
              "      <td>0</td>\n",
              "    </tr>\n",
              "    <tr>\n",
              "      <th>b</th>\n",
              "      <td>trumpeters</td>\n",
              "      <td>4.0</td>\n",
              "      <td>4</td>\n",
              "      <td>1</td>\n",
              "    </tr>\n",
              "    <tr>\n",
              "      <th>a</th>\n",
              "      <td>trumpeters</td>\n",
              "      <td>3.5</td>\n",
              "      <td>2</td>\n",
              "      <td>1</td>\n",
              "    </tr>\n",
              "    <tr>\n",
              "      <th>f</th>\n",
              "      <td>trumpeters</td>\n",
              "      <td>3.0</td>\n",
              "      <td>4</td>\n",
              "      <td>0</td>\n",
              "    </tr>\n",
              "    <tr>\n",
              "      <th>c</th>\n",
              "      <td>plovers</td>\n",
              "      <td>1.5</td>\n",
              "      <td>3</td>\n",
              "      <td>0</td>\n",
              "    </tr>\n",
              "    <tr>\n",
              "      <th>h</th>\n",
              "      <td>trumpeters</td>\n",
              "      <td>NaN</td>\n",
              "      <td>2</td>\n",
              "      <td>1</td>\n",
              "    </tr>\n",
              "    <tr>\n",
              "      <th>d</th>\n",
              "      <td>spoonbills</td>\n",
              "      <td>NaN</td>\n",
              "      <td>4</td>\n",
              "      <td>1</td>\n",
              "    </tr>\n",
              "  </tbody>\n",
              "</table>\n",
              "</div>"
            ],
            "text/plain": [
              "        birds  age  visits  priority\n",
              "i  spoonbills  8.0       3         0\n",
              "e  spoonbills  6.0       3         0\n",
              "g     plovers  5.5       2         0\n",
              "j  spoonbills  4.0       2         0\n",
              "b  trumpeters  4.0       4         1\n",
              "a  trumpeters  3.5       2         1\n",
              "f  trumpeters  3.0       4         0\n",
              "c     plovers  1.5       3         0\n",
              "h  trumpeters  NaN       2         1\n",
              "d  spoonbills  NaN       4         1"
            ]
          },
          "metadata": {
            "tags": []
          },
          "execution_count": 113
        }
      ]
    }
  ]
}